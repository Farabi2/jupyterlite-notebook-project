{
  "metadata": {
    "kernelspec": {
      "name": "python",
      "display_name": "Python (Pyodide)",
      "language": "python"
    },
    "language_info": {
      "codemirror_mode": {
        "name": "python",
        "version": 3
      },
      "file_extension": ".py",
      "mimetype": "text/x-python",
      "name": "python",
      "nbconvert_exporter": "python",
      "pygments_lexer": "ipython3",
      "version": "3.8"
    }
  },
  "nbformat_minor": 4,
  "nbformat": 4,
  "cells": [
    {
      "cell_type": "markdown",
      "source": "# Carnet Jupyterlite pour la Science des Données\n",
      "metadata": {}
    },
    {
      "cell_type": "markdown",
      "source": "## Introduction\nCe carnet présente divers aspects de la science des données à travers une série d'exercices.\n",
      "metadata": {}
    },
    {
      "cell_type": "markdown",
      "source": "## Langages de la science des données\nLes principaux langages utilisés en science des données sont :\n- Python\n- R\n- SQL\n- Julia\n- Scala\n",
      "metadata": {}
    },
    {
      "cell_type": "markdown",
      "source": "## Langages de la science des données\nLes principaux langages utilisés en science des données sont :\n- Python\n- R\n- SQL\n- Julia\n- Scala\n",
      "metadata": {}
    },
    {
      "cell_type": "markdown",
      "source": "## Bibliothèques de science des données\nVoici quelques bibliothèques populaires en science des données :\n- Pandas\n- NumPy\n- Matplotlib\n- SciPy\n- Scikit-learn\n- TensorFlow\n- PyTorch\n",
      "metadata": {}
    },
    {
      "cell_type": "markdown",
      "source": "## Outils de la science des données\n| Outil         | Description                                     |\n| ------------- | ----------------------------------------------- |\n| Jupyter       | Environnement interactif pour le développement  |\n| RStudio       | IDE pour le langage R                           |\n| Apache Spark  | Moteur de traitement de données distribuées     |\n| Tableau       | Logiciel de visualisation de données            |\n| Power BI      | Outil de business intelligence de Microsoft     |\n",
      "metadata": {}
    },
    {
      "cell_type": "markdown",
      "source": "## Exemples d'expressions arithmétiques\nVoici quelques exemples d'expressions arithmétiques :\n- Addition : `5 + 3`\n- Soustraction : `10 - 4`\n- Multiplication : `6 * 7`\n- Division : `20 / 5`\n",
      "metadata": {}
    },
    {
      "cell_type": "code",
      "source": "# Multiplier et additionner des nombres\na = 5\nb = 10\nresult_mult = a * b\nresult_add = a + b\nresult_mult, result_add\n",
      "metadata": {
        "trusted": true
      },
      "outputs": [
        {
          "execution_count": 2,
          "output_type": "execute_result",
          "data": {
            "text/plain": "(50, 15)"
          },
          "metadata": {}
        }
      ],
      "execution_count": 2
    },
    {
      "cell_type": "code",
      "source": "# Convertir les minutes en heures\nminutes = 150\nhours = minutes / 60\nhours\n",
      "metadata": {
        "trusted": true
      },
      "outputs": [
        {
          "execution_count": 3,
          "output_type": "execute_result",
          "data": {
            "text/plain": "2.5"
          },
          "metadata": {}
        }
      ],
      "execution_count": 3
    },
    {
      "cell_type": "markdown",
      "source": "## Objectifs\nLes objectifs de ce carnet sont :\n- Illustrer l'utilisation de Jupyterlite pour la science des données\n- Présenter des langages et bibliothèques de science des données\n- Effectuer des calculs arithmétiques de base\n- Fournir des exemples concrets d'utilisation de Python\n",
      "metadata": {}
    },
    {
      "cell_type": "markdown",
      "source": "## Auteur\nNom de l'auteur : [Ichrak Farab]\n",
      "metadata": {}
    },
    {
      "cell_type": "code",
      "source": "",
      "metadata": {
        "trusted": true
      },
      "outputs": [],
      "execution_count": null
    }
  ]
}